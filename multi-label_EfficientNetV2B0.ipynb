{
 "cells": [
  {
   "cell_type": "code",
   "execution_count": 1,
   "id": "efa715e2",
   "metadata": {},
   "outputs": [],
   "source": [
    "import tensorflow as tf\n",
    "import keras\n",
    "from keras.models import Sequential\n",
    "from keras.layers import Dense, Dropout, Flatten\n",
    "from keras.layers import Conv2D, MaxPooling2D\n",
    "from keras.utils import to_categorical\n",
    "import keras.utils as image\n",
    "import numpy as np\n",
    "import pandas as pd\n",
    "import matplotlib.pyplot as plt\n",
    "import cv2\n",
    "import optuna\n",
    "from efficientnet_v2 import EfficientNetV2B0\n",
    "from PIL import Image\n",
    "from sklearn.model_selection import train_test_split\n",
    "from tqdm import tqdm\n",
    "from efficientnet_v2 import EfficientNetV2B0\n",
    "from optuna.trial import TrialState\n",
    "%matplotlib inline"
   ]
  },
  {
   "cell_type": "code",
   "execution_count": 2,
   "id": "c11f6d65",
   "metadata": {
    "scrolled": true
   },
   "outputs": [
    {
     "data": {
      "text/html": [
       "<div>\n",
       "<style scoped>\n",
       "    .dataframe tbody tr th:only-of-type {\n",
       "        vertical-align: middle;\n",
       "    }\n",
       "\n",
       "    .dataframe tbody tr th {\n",
       "        vertical-align: top;\n",
       "    }\n",
       "\n",
       "    .dataframe thead th {\n",
       "        text-align: right;\n",
       "    }\n",
       "</style>\n",
       "<table border=\"1\" class=\"dataframe\">\n",
       "  <thead>\n",
       "    <tr style=\"text-align: right;\">\n",
       "      <th></th>\n",
       "      <th>image_name</th>\n",
       "      <th>almond</th>\n",
       "      <th>apple</th>\n",
       "      <th>asparagus</th>\n",
       "      <th>avocado</th>\n",
       "      <th>banana</th>\n",
       "      <th>beef</th>\n",
       "      <th>bellpepper</th>\n",
       "      <th>blueberry</th>\n",
       "      <th>bread</th>\n",
       "      <th>...</th>\n",
       "      <th>scallop</th>\n",
       "      <th>shrimp</th>\n",
       "      <th>spinach</th>\n",
       "      <th>squid</th>\n",
       "      <th>strawberry</th>\n",
       "      <th>sweetpotato</th>\n",
       "      <th>tuna</th>\n",
       "      <th>turmeric</th>\n",
       "      <th>vegetableoil</th>\n",
       "      <th>watermelon</th>\n",
       "    </tr>\n",
       "  </thead>\n",
       "  <tbody>\n",
       "    <tr>\n",
       "      <th>0</th>\n",
       "      <td>almond (1).jpg</td>\n",
       "      <td>1</td>\n",
       "      <td>0</td>\n",
       "      <td>0</td>\n",
       "      <td>0</td>\n",
       "      <td>0</td>\n",
       "      <td>0</td>\n",
       "      <td>0</td>\n",
       "      <td>0</td>\n",
       "      <td>0</td>\n",
       "      <td>...</td>\n",
       "      <td>0</td>\n",
       "      <td>0</td>\n",
       "      <td>0</td>\n",
       "      <td>0</td>\n",
       "      <td>0</td>\n",
       "      <td>0</td>\n",
       "      <td>0</td>\n",
       "      <td>0</td>\n",
       "      <td>0</td>\n",
       "      <td>0</td>\n",
       "    </tr>\n",
       "    <tr>\n",
       "      <th>1</th>\n",
       "      <td>almond (10).jpg</td>\n",
       "      <td>1</td>\n",
       "      <td>0</td>\n",
       "      <td>0</td>\n",
       "      <td>0</td>\n",
       "      <td>0</td>\n",
       "      <td>0</td>\n",
       "      <td>0</td>\n",
       "      <td>0</td>\n",
       "      <td>0</td>\n",
       "      <td>...</td>\n",
       "      <td>0</td>\n",
       "      <td>0</td>\n",
       "      <td>0</td>\n",
       "      <td>0</td>\n",
       "      <td>0</td>\n",
       "      <td>0</td>\n",
       "      <td>0</td>\n",
       "      <td>0</td>\n",
       "      <td>0</td>\n",
       "      <td>0</td>\n",
       "    </tr>\n",
       "    <tr>\n",
       "      <th>2</th>\n",
       "      <td>almond (100).jpg</td>\n",
       "      <td>1</td>\n",
       "      <td>0</td>\n",
       "      <td>0</td>\n",
       "      <td>0</td>\n",
       "      <td>0</td>\n",
       "      <td>0</td>\n",
       "      <td>0</td>\n",
       "      <td>0</td>\n",
       "      <td>0</td>\n",
       "      <td>...</td>\n",
       "      <td>0</td>\n",
       "      <td>0</td>\n",
       "      <td>0</td>\n",
       "      <td>0</td>\n",
       "      <td>0</td>\n",
       "      <td>0</td>\n",
       "      <td>0</td>\n",
       "      <td>0</td>\n",
       "      <td>0</td>\n",
       "      <td>0</td>\n",
       "    </tr>\n",
       "    <tr>\n",
       "      <th>3</th>\n",
       "      <td>almond (11).jpg</td>\n",
       "      <td>1</td>\n",
       "      <td>0</td>\n",
       "      <td>0</td>\n",
       "      <td>0</td>\n",
       "      <td>0</td>\n",
       "      <td>0</td>\n",
       "      <td>0</td>\n",
       "      <td>0</td>\n",
       "      <td>0</td>\n",
       "      <td>...</td>\n",
       "      <td>0</td>\n",
       "      <td>0</td>\n",
       "      <td>0</td>\n",
       "      <td>0</td>\n",
       "      <td>0</td>\n",
       "      <td>0</td>\n",
       "      <td>0</td>\n",
       "      <td>0</td>\n",
       "      <td>0</td>\n",
       "      <td>0</td>\n",
       "    </tr>\n",
       "    <tr>\n",
       "      <th>4</th>\n",
       "      <td>almond (12).jpg</td>\n",
       "      <td>1</td>\n",
       "      <td>0</td>\n",
       "      <td>0</td>\n",
       "      <td>0</td>\n",
       "      <td>0</td>\n",
       "      <td>0</td>\n",
       "      <td>0</td>\n",
       "      <td>0</td>\n",
       "      <td>0</td>\n",
       "      <td>...</td>\n",
       "      <td>0</td>\n",
       "      <td>0</td>\n",
       "      <td>0</td>\n",
       "      <td>0</td>\n",
       "      <td>0</td>\n",
       "      <td>0</td>\n",
       "      <td>0</td>\n",
       "      <td>0</td>\n",
       "      <td>0</td>\n",
       "      <td>0</td>\n",
       "    </tr>\n",
       "  </tbody>\n",
       "</table>\n",
       "<p>5 rows × 61 columns</p>\n",
       "</div>"
      ],
      "text/plain": [
       "         image_name  almond  apple  asparagus  avocado  banana  beef  \\\n",
       "0    almond (1).jpg       1      0          0        0       0     0   \n",
       "1   almond (10).jpg       1      0          0        0       0     0   \n",
       "2  almond (100).jpg       1      0          0        0       0     0   \n",
       "3   almond (11).jpg       1      0          0        0       0     0   \n",
       "4   almond (12).jpg       1      0          0        0       0     0   \n",
       "\n",
       "   bellpepper  blueberry  bread  ...  scallop  shrimp  spinach  squid  \\\n",
       "0           0          0      0  ...        0       0        0      0   \n",
       "1           0          0      0  ...        0       0        0      0   \n",
       "2           0          0      0  ...        0       0        0      0   \n",
       "3           0          0      0  ...        0       0        0      0   \n",
       "4           0          0      0  ...        0       0        0      0   \n",
       "\n",
       "   strawberry  sweetpotato  tuna  turmeric  vegetableoil  watermelon  \n",
       "0           0            0     0         0             0           0  \n",
       "1           0            0     0         0             0           0  \n",
       "2           0            0     0         0             0           0  \n",
       "3           0            0     0         0             0           0  \n",
       "4           0            0     0         0             0           0  \n",
       "\n",
       "[5 rows x 61 columns]"
      ]
     },
     "execution_count": 2,
     "metadata": {},
     "output_type": "execute_result"
    }
   ],
   "source": [
    "train = pd.read_csv('label4.csv', sep=';')    # reading the csv file\n",
    "train.head()      # printing first five rows of the file"
   ]
  },
  {
   "cell_type": "code",
   "execution_count": 3,
   "id": "735f6dc8",
   "metadata": {
    "scrolled": true
   },
   "outputs": [
    {
     "data": {
      "text/plain": [
       "Index(['image_name', 'almond', 'apple', 'asparagus', 'avocado', 'banana',\n",
       "       'beef', 'bellpepper', 'blueberry', 'bread', 'broccoli', 'butter',\n",
       "       'cabbage', 'carrot', 'cashew', 'cauliflower', 'cheese', 'chicken',\n",
       "       'chili', 'chocolate', 'cinnamon', 'coconut', 'cod', 'corn', 'crab',\n",
       "       'cucumber', 'dragonfruit', 'egg', 'garlic', 'ginger', 'greenbean',\n",
       "       'greenonion', 'honey', 'lettuce', 'lobster', 'mango', 'melon', 'milk',\n",
       "       'mushroom', 'noodles', 'octopus', 'onion', 'orange', 'pasta', 'peanut',\n",
       "       'pear', 'pineapple', 'potato', 'redpepperflake', 'rice', 'salmon',\n",
       "       'scallop', 'shrimp', 'spinach', 'squid', 'strawberry', 'sweetpotato',\n",
       "       'tuna', 'turmeric', 'vegetableoil', 'watermelon'],\n",
       "      dtype='object')"
      ]
     },
     "execution_count": 3,
     "metadata": {},
     "output_type": "execute_result"
    }
   ],
   "source": [
    "train.columns"
   ]
  },
  {
   "cell_type": "code",
   "execution_count": 4,
   "id": "d0094df9",
   "metadata": {},
   "outputs": [],
   "source": [
    "def histogram_equalize(img):\n",
    "    b, g, r = cv2.split(img)                    #split image into bgr channels (blue, green, red - this is the default order for function cv2.split)\n",
    "    red = cv2.equalizeHist(r)                   #carry out histogram equalizaton for each channel\n",
    "    green = cv2.equalizeHist(g)\n",
    "    blue = cv2.equalizeHist(b)\n",
    "    return cv2.merge((blue, green, red))        #merge back the three channels\n",
    "\n",
    "def grey_world(img):\n",
    "    alpha , beta, gamma = 1,1,1\n",
    "\n",
    "    b, g, r = cv2.split(img)                    # split into red green and blue channels\n",
    "    sumB = np.sum(b)\n",
    "    sumG = np.sum(g)\n",
    "    sumR = np.sum(r)\n",
    "    n = np.ma.size(b)                           # no of elements - will be same for all channels\n",
    "\n",
    "    #calculate averages\n",
    "    avgB = (sumB/n)\n",
    "    avgG = (sumG/n)\n",
    "    avgR = (sumR/n)\n",
    "\n",
    "    scale = float((avgB + avgG + avgR))/3.0\n",
    "\n",
    "    denB = float(avgB) * gamma\n",
    "    denG = float(avgG) * beta\n",
    "    denR = float(avgR) * alpha\n",
    "\n",
    "    blue = np.divide((np.multiply(b,scale)), denB)\n",
    "    green = np.divide((np.multiply(g,scale)), denG)\n",
    "    red = np.divide((np.multiply(r,scale)), denR)\n",
    "\n",
    "    blue = np.array(blue, dtype= np.uint8)\n",
    "    green = np.array(green, dtype= np.uint8)\n",
    "    red = np.array(red, dtype= np.uint8)\n",
    "\n",
    "    merged = cv2.merge((blue,green,red))\n",
    "    return merged"
   ]
  },
  {
   "cell_type": "code",
   "execution_count": 5,
   "id": "2130c092",
   "metadata": {
    "scrolled": true
   },
   "outputs": [
    {
     "name": "stderr",
     "output_type": "stream",
     "text": [
      "100%|█████████████████████████████████████████████████████████████████████████████| 6000/6000 [00:58<00:00, 102.82it/s]\n"
     ]
    }
   ],
   "source": [
    "train_image = []\n",
    "for i in tqdm(range(train.shape[0])):\n",
    "    img = cv2.resize(cv2.imread('RAW61_BW/'+train['image_name'][i]), (224,224))\n",
    "    Img_hist = histogram_equalize(img)\n",
    "    img = image.img_to_array(Img_hist)\n",
    "    img = img/255\n",
    "    train_image.append(img)\n",
    "X = np.array(train_image)"
   ]
  },
  {
   "cell_type": "code",
   "execution_count": 6,
   "id": "e477e365",
   "metadata": {},
   "outputs": [
    {
     "data": {
      "text/plain": [
       "(6000, 224, 224, 3)"
      ]
     },
     "execution_count": 6,
     "metadata": {},
     "output_type": "execute_result"
    }
   ],
   "source": [
    "X.shape"
   ]
  },
  {
   "cell_type": "code",
   "execution_count": 7,
   "id": "798cf923",
   "metadata": {},
   "outputs": [
    {
     "data": {
      "text/plain": [
       "(6000, 60)"
      ]
     },
     "execution_count": 7,
     "metadata": {},
     "output_type": "execute_result"
    }
   ],
   "source": [
    "y = np.array(train.drop(['image_name'],axis=1))\n",
    "y.shape"
   ]
  },
  {
   "cell_type": "code",
   "execution_count": 8,
   "id": "22e27700",
   "metadata": {},
   "outputs": [],
   "source": [
    "X_train, X_test, y_train, y_test = train_test_split(X, y, random_state=42, test_size=0.1)"
   ]
  },
  {
   "cell_type": "code",
   "execution_count": 9,
   "id": "93ad1fb7",
   "metadata": {},
   "outputs": [],
   "source": [
    "# Without automated hyperparameter optimization\n",
    "def build_model(num_classes=60):\n",
    "    base_model = EfficientNetV2B0(\n",
    "        input_shape=(224, 224, 3),\n",
    "        include_top=False,\n",
    "        pooling=\"avg\",\n",
    "        weights=\"imagenet-21k-ft1k\" # Use pretrained on imagenet 21k and fine tuned on 1k weight variant.\n",
    "    )\n",
    "\n",
    "    base_model.trainable=False\n",
    "    \n",
    "    model = tf.keras.Sequential([\n",
    "        base_model,\n",
    "        tf.keras.layers.Dense(100, activation='relu')\n",
    "        tf.keras.layers.Dropout(0.2),\n",
    "        tf.keras.layers.Dense(num_classes, activation='sigmoid')\n",
    "    ])\n",
    "    \n",
    "    return model"
   ]
  },
  {
   "cell_type": "code",
   "execution_count": 46,
   "id": "7d8a43ea",
   "metadata": {},
   "outputs": [],
   "source": [
    "# Without automated hyperparameter optimization 2 (different method)\n",
    "def build_model():\n",
    "    base_model = EfficientNetV2B0(\n",
    "        input_shape=(224, 224, 3),\n",
    "        include_top=False,\n",
    "        pooling=\"avg\",\n",
    "        weights=\"imagenet-21k-ft1k\" # Use pretrained on imagenet 21k and fine tuned on 1k weight variant.\n",
    "    )\n",
    "\n",
    "    base_model.trainable=False\n",
    "    num_classes=60\n",
    "    \n",
    "    model = tf.keras.Sequential(base_model)\n",
    "    model.add(tf.keras.layers.Dense(350, activation='relu'))\n",
    "    model.add(tf.keras.layers.Dropout(0.262882219302666))\n",
    "    model.add(tf.keras.layers.Dense(num_classes, activation='sigmoid'))\n",
    "    \n",
    "    return model"
   ]
  },
  {
   "cell_type": "code",
   "execution_count": 9,
   "id": "b9140396",
   "metadata": {},
   "outputs": [],
   "source": [
    "# Automated hyperparameter optimization for number of layers, neurons per layer, weight decay, and learning rate\n",
    "def objective(trial):\n",
    "    base_model = EfficientNetV2B0(\n",
    "        input_shape=(224, 224, 3),\n",
    "        include_top=False,\n",
    "        pooling=\"avg\",\n",
    "        weights=\"imagenet-21k-ft1k\" # Use pretrained on imagenet 21k and fine tuned on 1k weight variant.\n",
    "    )\n",
    "\n",
    "    base_model.trainable=False\n",
    "    num_classes=60\n",
    "    \n",
    "    # Some hyperparameters to optimize\n",
    "    # Dropout rate\n",
    "    dropout = trial.suggest_float('dropout', 0.2, 0.5)\n",
    "    # Neurons per layer\n",
    "    n_units = trial.suggest_int('n_units', 64, 512)\n",
    "    # Learning rate\n",
    "    learning_rate = trial.suggest_float('learning_rate', 1e-4, 1e-2)\n",
    "\n",
    "    model = tf.keras.Sequential(base_model)\n",
    "    model.add(tf.keras.layers.Dense(n_units, activation='relu'))\n",
    "    model.add(tf.keras.layers.Dropout(dropout))\n",
    "    model.add(tf.keras.layers.Dense(num_classes, activation='sigmoid'))\n",
    "\n",
    "    model.compile(loss='binary_crossentropy', optimizer=tf.keras.optimizers.Adam(learning_rate=learning_rate), metrics=['accuracy'])\n",
    "    \n",
    "    model.fit(X_train, y_train, validation_data=(X_test, y_test), batch_size=32)\n",
    "    res = model.get_metrics_result()\n",
    "    loss = res['loss'].numpy()    \n",
    "        \n",
    "    return loss"
   ]
  },
  {
   "cell_type": "code",
   "execution_count": 45,
   "id": "1723a0cb",
   "metadata": {},
   "outputs": [
    {
     "name": "stderr",
     "output_type": "stream",
     "text": [
      "[I 2023-10-15 15:19:36,216] A new study created in memory with name: no-name-1a9c753d-7e97-4d74-8254-c160e8c3de5f\n"
     ]
    },
    {
     "name": "stdout",
     "output_type": "stream",
     "text": [
      "169/169 [==============================] - 136s 775ms/step - loss: 0.0968 - accuracy: 0.2344 - val_loss: 0.0496 - val_accuracy: 0.5167\n"
     ]
    },
    {
     "name": "stderr",
     "output_type": "stream",
     "text": [
      "[I 2023-10-15 15:21:54,260] Trial 0 finished with value: 0.04957713186740875 and parameters: {'dropout': 0.4672180008143853, 'n_units': 260, 'learning_rate': 0.007775341968601526}. Best is trial 0 with value: 0.04957713186740875.\n"
     ]
    },
    {
     "name": "stdout",
     "output_type": "stream",
     "text": [
      "169/169 [==============================] - 142s 809ms/step - loss: 0.1333 - accuracy: 0.0533 - val_loss: 0.0801 - val_accuracy: 0.1583\n"
     ]
    },
    {
     "name": "stderr",
     "output_type": "stream",
     "text": [
      "[I 2023-10-15 15:24:18,336] Trial 1 finished with value: 0.08005798608064651 and parameters: {'dropout': 0.4032611053614288, 'n_units': 64, 'learning_rate': 0.009202800604611264}. Best is trial 0 with value: 0.04957713186740875.\n"
     ]
    },
    {
     "name": "stdout",
     "output_type": "stream",
     "text": [
      "169/169 [==============================] - 136s 776ms/step - loss: 0.0928 - accuracy: 0.2828 - val_loss: 0.0474 - val_accuracy: 0.5283\n"
     ]
    },
    {
     "name": "stderr",
     "output_type": "stream",
     "text": [
      "[I 2023-10-15 15:26:36,044] Trial 2 finished with value: 0.04735618457198143 and parameters: {'dropout': 0.48003700518782694, 'n_units': 417, 'learning_rate': 0.006480229771309693}. Best is trial 2 with value: 0.04735618457198143.\n"
     ]
    },
    {
     "name": "stdout",
     "output_type": "stream",
     "text": [
      "169/169 [==============================] - 136s 779ms/step - loss: 0.1003 - accuracy: 0.2207 - val_loss: 0.0596 - val_accuracy: 0.4467\n"
     ]
    },
    {
     "name": "stderr",
     "output_type": "stream",
     "text": [
      "[I 2023-10-15 15:28:54,204] Trial 3 finished with value: 0.05955241993069649 and parameters: {'dropout': 0.4176871046292, 'n_units': 281, 'learning_rate': 0.009835691956642178}. Best is trial 2 with value: 0.04735618457198143.\n"
     ]
    },
    {
     "name": "stdout",
     "output_type": "stream",
     "text": [
      "169/169 [==============================] - 145s 825ms/step - loss: 0.0945 - accuracy: 0.2243 - val_loss: 0.0541 - val_accuracy: 0.4917\n"
     ]
    },
    {
     "name": "stderr",
     "output_type": "stream",
     "text": [
      "[I 2023-10-15 15:31:21,711] Trial 4 finished with value: 0.054118964821100235 and parameters: {'dropout': 0.3926011832879633, 'n_units': 175, 'learning_rate': 0.00792022078375721}. Best is trial 2 with value: 0.04735618457198143.\n"
     ]
    },
    {
     "name": "stdout",
     "output_type": "stream",
     "text": [
      "169/169 [==============================] - 134s 762ms/step - loss: 0.0782 - accuracy: 0.3522 - val_loss: 0.0447 - val_accuracy: 0.5650\n"
     ]
    },
    {
     "name": "stderr",
     "output_type": "stream",
     "text": [
      "[I 2023-10-15 15:33:37,491] Trial 5 finished with value: 0.04466475546360016 and parameters: {'dropout': 0.26192741919169515, 'n_units': 280, 'learning_rate': 0.0066054888702311385}. Best is trial 5 with value: 0.04466475546360016.\n"
     ]
    },
    {
     "name": "stdout",
     "output_type": "stream",
     "text": [
      "169/169 [==============================] - 136s 779ms/step - loss: 0.0996 - accuracy: 0.2376 - val_loss: 0.0522 - val_accuracy: 0.5017\n"
     ]
    },
    {
     "name": "stderr",
     "output_type": "stream",
     "text": [
      "[I 2023-10-15 15:35:55,666] Trial 6 finished with value: 0.05220753699541092 and parameters: {'dropout': 0.43489453646667825, 'n_units': 318, 'learning_rate': 0.009424404363594926}. Best is trial 5 with value: 0.04466475546360016.\n"
     ]
    },
    {
     "name": "stdout",
     "output_type": "stream",
     "text": [
      "169/169 [==============================] - 153s 875ms/step - loss: 0.1205 - accuracy: 0.1150 - val_loss: 0.0578 - val_accuracy: 0.4950\n"
     ]
    },
    {
     "name": "stderr",
     "output_type": "stream",
     "text": [
      "[I 2023-10-15 15:38:31,450] Trial 7 finished with value: 0.05780121311545372 and parameters: {'dropout': 0.38128913748720084, 'n_units': 284, 'learning_rate': 0.0005459927317268993}. Best is trial 5 with value: 0.04466475546360016.\n"
     ]
    },
    {
     "name": "stdout",
     "output_type": "stream",
     "text": [
      "169/169 [==============================] - 146s 838ms/step - loss: 0.1202 - accuracy: 0.1259 - val_loss: 0.0581 - val_accuracy: 0.4817\n"
     ]
    },
    {
     "name": "stderr",
     "output_type": "stream",
     "text": [
      "[I 2023-10-15 15:40:59,684] Trial 8 finished with value: 0.05813845992088318 and parameters: {'dropout': 0.308812945344204, 'n_units': 79, 'learning_rate': 0.002100884616126921}. Best is trial 5 with value: 0.04466475546360016.\n"
     ]
    },
    {
     "name": "stdout",
     "output_type": "stream",
     "text": [
      "169/169 [==============================] - 153s 878ms/step - loss: 0.0934 - accuracy: 0.2483 - val_loss: 0.0520 - val_accuracy: 0.4800\n"
     ]
    },
    {
     "name": "stderr",
     "output_type": "stream",
     "text": [
      "[I 2023-10-15 15:43:34,633] Trial 9 finished with value: 0.051957208663225174 and parameters: {'dropout': 0.293140062931521, 'n_units': 174, 'learning_rate': 0.009316950900178502}. Best is trial 5 with value: 0.04466475546360016.\n"
     ]
    },
    {
     "name": "stdout",
     "output_type": "stream",
     "text": [
      "169/169 [==============================] - 172s 988ms/step - loss: 0.0749 - accuracy: 0.4087 - val_loss: 0.0417 - val_accuracy: 0.5633\n"
     ]
    },
    {
     "name": "stderr",
     "output_type": "stream",
     "text": [
      "[I 2023-10-15 15:46:29,590] Trial 10 finished with value: 0.04168061167001724 and parameters: {'dropout': 0.20845908114189432, 'n_units': 472, 'learning_rate': 0.004648780830779818}. Best is trial 10 with value: 0.04168061167001724.\n"
     ]
    },
    {
     "name": "stdout",
     "output_type": "stream",
     "text": [
      "169/169 [==============================] - 159s 906ms/step - loss: 0.0730 - accuracy: 0.4172 - val_loss: 0.0409 - val_accuracy: 0.5900\n"
     ]
    },
    {
     "name": "stderr",
     "output_type": "stream",
     "text": [
      "[I 2023-10-15 15:49:10,536] Trial 11 finished with value: 0.04086514934897423 and parameters: {'dropout': 0.21191446026138727, 'n_units': 499, 'learning_rate': 0.0048319856336587}. Best is trial 11 with value: 0.04086514934897423.\n"
     ]
    },
    {
     "name": "stdout",
     "output_type": "stream",
     "text": [
      "169/169 [==============================] - 160s 919ms/step - loss: 0.0709 - accuracy: 0.4122 - val_loss: 0.0419 - val_accuracy: 0.5883\n"
     ]
    },
    {
     "name": "stderr",
     "output_type": "stream",
     "text": [
      "[I 2023-10-15 15:51:52,543] Trial 12 finished with value: 0.041867394000291824 and parameters: {'dropout': 0.20720881171921499, 'n_units': 512, 'learning_rate': 0.0040836759696315636}. Best is trial 11 with value: 0.04086514934897423.\n"
     ]
    },
    {
     "name": "stdout",
     "output_type": "stream",
     "text": [
      "169/169 [==============================] - 156s 893ms/step - loss: 0.0717 - accuracy: 0.4196 - val_loss: 0.0404 - val_accuracy: 0.6050\n"
     ]
    },
    {
     "name": "stderr",
     "output_type": "stream",
     "text": [
      "[I 2023-10-15 15:54:31,437] Trial 13 finished with value: 0.04039309546351433 and parameters: {'dropout': 0.21524595307338826, 'n_units': 490, 'learning_rate': 0.004645767557586775}. Best is trial 13 with value: 0.04039309546351433.\n"
     ]
    },
    {
     "name": "stdout",
     "output_type": "stream",
     "text": [
      "169/169 [==============================] - 156s 888ms/step - loss: 0.0710 - accuracy: 0.4039 - val_loss: 0.0396 - val_accuracy: 0.6033\n"
     ]
    },
    {
     "name": "stderr",
     "output_type": "stream",
     "text": [
      "[I 2023-10-15 15:57:09,604] Trial 14 finished with value: 0.039567530155181885 and parameters: {'dropout': 0.2396740504849495, 'n_units': 405, 'learning_rate': 0.0038183529799722974}. Best is trial 14 with value: 0.039567530155181885.\n"
     ]
    },
    {
     "name": "stdout",
     "output_type": "stream",
     "text": [
      "169/169 [==============================] - 158s 902ms/step - loss: 0.0717 - accuracy: 0.4002 - val_loss: 0.0403 - val_accuracy: 0.5933\n"
     ]
    },
    {
     "name": "stderr",
     "output_type": "stream",
     "text": [
      "[I 2023-10-15 15:59:49,516] Trial 15 finished with value: 0.040303878486156464 and parameters: {'dropout': 0.2432508912066619, 'n_units': 392, 'learning_rate': 0.0033596821778405744}. Best is trial 14 with value: 0.039567530155181885.\n"
     ]
    },
    {
     "name": "stdout",
     "output_type": "stream",
     "text": [
      "169/169 [==============================] - 151s 854ms/step - loss: 0.0777 - accuracy: 0.3589 - val_loss: 0.0410 - val_accuracy: 0.5917\n"
     ]
    },
    {
     "name": "stderr",
     "output_type": "stream",
     "text": [
      "[I 2023-10-15 16:02:22,361] Trial 16 finished with value: 0.04096560552716255 and parameters: {'dropout': 0.3399506113029472, 'n_units': 393, 'learning_rate': 0.002959509032268145}. Best is trial 14 with value: 0.039567530155181885.\n"
     ]
    },
    {
     "name": "stdout",
     "output_type": "stream",
     "text": [
      "169/169 [==============================] - 150s 856ms/step - loss: 0.0743 - accuracy: 0.3791 - val_loss: 0.0395 - val_accuracy: 0.6233\n"
     ]
    },
    {
     "name": "stderr",
     "output_type": "stream",
     "text": [
      "[I 2023-10-15 16:04:54,106] Trial 17 finished with value: 0.03953917324542999 and parameters: {'dropout': 0.2474503147723754, 'n_units': 370, 'learning_rate': 0.0032212059241563517}. Best is trial 17 with value: 0.03953917324542999.\n"
     ]
    },
    {
     "name": "stdout",
     "output_type": "stream",
     "text": [
      "169/169 [==============================] - 149s 853ms/step - loss: 0.0769 - accuracy: 0.3652 - val_loss: 0.0393 - val_accuracy: 0.6283\n"
     ]
    },
    {
     "name": "stderr",
     "output_type": "stream",
     "text": [
      "[I 2023-10-15 16:07:25,277] Trial 18 finished with value: 0.03934407979249954 and parameters: {'dropout': 0.262882219302666, 'n_units': 350, 'learning_rate': 0.0019880554370415556}. Best is trial 18 with value: 0.03934407979249954.\n"
     ]
    },
    {
     "name": "stdout",
     "output_type": "stream",
     "text": [
      "169/169 [==============================] - 155s 875ms/step - loss: 0.0787 - accuracy: 0.3515 - val_loss: 0.0400 - val_accuracy: 0.5933\n"
     ]
    },
    {
     "name": "stderr",
     "output_type": "stream",
     "text": [
      "[I 2023-10-15 16:10:02,654] Trial 19 finished with value: 0.04000094532966614 and parameters: {'dropout': 0.27826896681090574, 'n_units': 341, 'learning_rate': 0.0017273199116886906}. Best is trial 18 with value: 0.03934407979249954.\n"
     ]
    },
    {
     "name": "stdout",
     "output_type": "stream",
     "text": [
      "Study statistics: \n",
      "  Number of finished trials:  20\n",
      "  Number of pruned trials:  0\n",
      "  Number of complete trials:  20\n",
      "Best trial loss:  0.03934407979249954\n",
      "Best Parameters: \n",
      "    dropout: 0.262882219302666\n",
      "    n_units: 350\n",
      "    learning_rate: 0.0019880554370415556\n"
     ]
    }
   ],
   "source": [
    "# Trial search for hyperparameters\n",
    "study = optuna.create_study(direction='minimize')\n",
    "study.optimize(objective, n_trials=20)\n",
    "\n",
    "print(\"Study statistics: \")\n",
    "print(\"  Number of finished trials: \", len(study.trials))\n",
    "\n",
    "trial = study.best_trial\n",
    "\n",
    "print(\"Best trial loss: \", trial.value)\n",
    "\n",
    "print(\"Best Parameters: \")\n",
    "for key, value in trial.params.items():\n",
    "    print(\"    {}: {}\".format(key, value))"
   ]
  },
  {
   "cell_type": "code",
   "execution_count": 47,
   "id": "75b904d2",
   "metadata": {},
   "outputs": [
    {
     "name": "stdout",
     "output_type": "stream",
     "text": [
      "Model: \"sequential_42\"\n",
      "_________________________________________________________________\n",
      " Layer (type)                Output Shape              Param #   \n",
      "=================================================================\n",
      " efficientnetv2-b0 (Function  (None, 1280)             5919312   \n",
      " al)                                                             \n",
      "                                                                 \n",
      " dense_84 (Dense)            (None, 350)               448350    \n",
      "                                                                 \n",
      " dropout_42 (Dropout)        (None, 350)               0         \n",
      "                                                                 \n",
      " dense_85 (Dense)            (None, 60)                21060     \n",
      "                                                                 \n",
      "=================================================================\n",
      "Total params: 6,388,722\n",
      "Trainable params: 469,410\n",
      "Non-trainable params: 5,919,312\n",
      "_________________________________________________________________\n"
     ]
    }
   ],
   "source": [
    "model = build_model()\n",
    "model.summary()"
   ]
  },
  {
   "cell_type": "code",
   "execution_count": 48,
   "id": "45c863f6",
   "metadata": {},
   "outputs": [],
   "source": [
    "model.compile(optimizer=tf.keras.optimizers.Adam(learning_rate=0.0019880554370415556), loss='binary_crossentropy', metrics=['accuracy'])"
   ]
  },
  {
   "cell_type": "code",
   "execution_count": 49,
   "id": "da0f0baa",
   "metadata": {
    "scrolled": true
   },
   "outputs": [
    {
     "name": "stdout",
     "output_type": "stream",
     "text": [
      "Epoch 1/20\n",
      "169/169 [==============================] - 145s 828ms/step - loss: 0.0781 - accuracy: 0.3563 - val_loss: 0.0409 - val_accuracy: 0.5967\n",
      "Epoch 2/20\n",
      "169/169 [==============================] - 143s 849ms/step - loss: 0.0383 - accuracy: 0.6187 - val_loss: 0.0350 - val_accuracy: 0.6500\n",
      "Epoch 3/20\n",
      "169/169 [==============================] - 147s 871ms/step - loss: 0.0313 - accuracy: 0.6944 - val_loss: 0.0335 - val_accuracy: 0.6633\n",
      "Epoch 4/20\n",
      "169/169 [==============================] - 141s 837ms/step - loss: 0.0275 - accuracy: 0.7352 - val_loss: 0.0331 - val_accuracy: 0.6850\n",
      "Epoch 5/20\n",
      "169/169 [==============================] - 142s 840ms/step - loss: 0.0247 - accuracy: 0.7641 - val_loss: 0.0329 - val_accuracy: 0.6933\n",
      "Epoch 6/20\n",
      "169/169 [==============================] - 142s 838ms/step - loss: 0.0223 - accuracy: 0.7920 - val_loss: 0.0324 - val_accuracy: 0.6933\n",
      "Epoch 7/20\n",
      "169/169 [==============================] - 142s 840ms/step - loss: 0.0203 - accuracy: 0.8115 - val_loss: 0.0338 - val_accuracy: 0.6817\n",
      "Epoch 8/20\n",
      "169/169 [==============================] - 145s 856ms/step - loss: 0.0185 - accuracy: 0.8381 - val_loss: 0.0335 - val_accuracy: 0.7083\n",
      "Epoch 9/20\n",
      "169/169 [==============================] - 143s 846ms/step - loss: 0.0176 - accuracy: 0.8435 - val_loss: 0.0356 - val_accuracy: 0.7000\n",
      "Epoch 10/20\n",
      "169/169 [==============================] - 136s 808ms/step - loss: 0.0163 - accuracy: 0.8606 - val_loss: 0.0361 - val_accuracy: 0.7017\n",
      "Epoch 11/20\n",
      "169/169 [==============================] - 134s 796ms/step - loss: 0.0156 - accuracy: 0.8670 - val_loss: 0.0335 - val_accuracy: 0.7000\n",
      "Epoch 12/20\n",
      "169/169 [==============================] - 139s 826ms/step - loss: 0.0145 - accuracy: 0.8837 - val_loss: 0.0361 - val_accuracy: 0.7000\n",
      "Epoch 13/20\n",
      "169/169 [==============================] - 140s 829ms/step - loss: 0.0135 - accuracy: 0.8926 - val_loss: 0.0355 - val_accuracy: 0.7083\n",
      "Epoch 14/20\n",
      "169/169 [==============================] - 145s 856ms/step - loss: 0.0130 - accuracy: 0.8993 - val_loss: 0.0369 - val_accuracy: 0.7267\n",
      "Epoch 15/20\n",
      "169/169 [==============================] - 143s 847ms/step - loss: 0.0119 - accuracy: 0.9098 - val_loss: 0.0369 - val_accuracy: 0.7017\n",
      "Epoch 16/20\n",
      "169/169 [==============================] - 149s 881ms/step - loss: 0.0119 - accuracy: 0.9081 - val_loss: 0.0361 - val_accuracy: 0.7117\n",
      "Epoch 17/20\n",
      "169/169 [==============================] - 3443s 20s/step - loss: 0.0117 - accuracy: 0.9056 - val_loss: 0.0399 - val_accuracy: 0.7083\n",
      "Epoch 18/20\n",
      "169/169 [==============================] - 135s 799ms/step - loss: 0.0112 - accuracy: 0.9159 - val_loss: 0.0406 - val_accuracy: 0.7033\n",
      "Epoch 19/20\n",
      "169/169 [==============================] - 136s 805ms/step - loss: 0.0107 - accuracy: 0.9228 - val_loss: 0.0394 - val_accuracy: 0.7117\n",
      "Epoch 20/20\n",
      "169/169 [==============================] - 134s 795ms/step - loss: 0.0108 - accuracy: 0.9206 - val_loss: 0.0390 - val_accuracy: 0.7167\n"
     ]
    },
    {
     "data": {
      "text/plain": [
       "<keras.callbacks.History at 0x11c24ef59f0>"
      ]
     },
     "execution_count": 49,
     "metadata": {},
     "output_type": "execute_result"
    }
   ],
   "source": [
    "model.fit(X_train, y_train, epochs=20, validation_data=(X_test, y_test), batch_size=32)"
   ]
  },
  {
   "cell_type": "code",
   "execution_count": 40,
   "id": "ca310146",
   "metadata": {
    "scrolled": true
   },
   "outputs": [
    {
     "name": "stdout",
     "output_type": "stream",
     "text": [
      "Epoch 1/20\n",
      "169/169 [==============================] - 113s 635ms/step - loss: 0.0806 - accuracy: 0.4315 - val_loss: 0.0458 - val_accuracy: 0.6317\n",
      "Epoch 2/20\n",
      "169/169 [==============================] - 104s 613ms/step - loss: 0.0380 - accuracy: 0.6728 - val_loss: 0.0424 - val_accuracy: 0.6617\n",
      "Epoch 3/20\n",
      "169/169 [==============================] - 106s 629ms/step - loss: 0.0314 - accuracy: 0.7328 - val_loss: 0.0431 - val_accuracy: 0.6550\n",
      "Epoch 4/20\n",
      "169/169 [==============================] - 107s 634ms/step - loss: 0.0279 - accuracy: 0.7770 - val_loss: 0.0429 - val_accuracy: 0.6683\n",
      "Epoch 5/20\n",
      "169/169 [==============================] - 106s 625ms/step - loss: 0.0267 - accuracy: 0.7846 - val_loss: 0.0429 - val_accuracy: 0.6817\n",
      "Epoch 6/20\n",
      "169/169 [==============================] - 98s 582ms/step - loss: 0.0246 - accuracy: 0.8087 - val_loss: 0.0474 - val_accuracy: 0.6667\n",
      "Epoch 7/20\n",
      "169/169 [==============================] - 97s 574ms/step - loss: 0.0246 - accuracy: 0.8133 - val_loss: 0.0462 - val_accuracy: 0.6867\n",
      "Epoch 8/20\n",
      "169/169 [==============================] - 97s 573ms/step - loss: 0.0242 - accuracy: 0.8196 - val_loss: 0.0507 - val_accuracy: 0.6917\n",
      "Epoch 9/20\n",
      "169/169 [==============================] - 97s 572ms/step - loss: 0.0224 - accuracy: 0.8365 - val_loss: 0.0524 - val_accuracy: 0.6717\n",
      "Epoch 10/20\n",
      "169/169 [==============================] - 96s 568ms/step - loss: 0.0225 - accuracy: 0.8402 - val_loss: 0.0511 - val_accuracy: 0.6833\n",
      "Epoch 11/20\n",
      "169/169 [==============================] - 96s 568ms/step - loss: 0.0211 - accuracy: 0.8563 - val_loss: 0.0535 - val_accuracy: 0.6717\n",
      "Epoch 12/20\n",
      "169/169 [==============================] - 96s 568ms/step - loss: 0.0231 - accuracy: 0.8431 - val_loss: 0.0531 - val_accuracy: 0.6817\n",
      "Epoch 13/20\n",
      "169/169 [==============================] - 96s 567ms/step - loss: 0.0221 - accuracy: 0.8550 - val_loss: 0.0597 - val_accuracy: 0.6700\n",
      "Epoch 14/20\n",
      "169/169 [==============================] - 103s 611ms/step - loss: 0.0217 - accuracy: 0.8644 - val_loss: 0.0566 - val_accuracy: 0.6783\n",
      "Epoch 15/20\n",
      "169/169 [==============================] - 101s 601ms/step - loss: 0.0216 - accuracy: 0.8615 - val_loss: 0.0593 - val_accuracy: 0.6800\n",
      "Epoch 16/20\n",
      "169/169 [==============================] - 102s 603ms/step - loss: 0.0212 - accuracy: 0.8726 - val_loss: 0.0584 - val_accuracy: 0.7000\n",
      "Epoch 17/20\n",
      "169/169 [==============================] - 97s 572ms/step - loss: 0.0210 - accuracy: 0.8756 - val_loss: 0.0617 - val_accuracy: 0.6783\n",
      "Epoch 18/20\n",
      "169/169 [==============================] - 97s 575ms/step - loss: 0.0214 - accuracy: 0.8737 - val_loss: 0.0615 - val_accuracy: 0.6850\n",
      "Epoch 19/20\n",
      "169/169 [==============================] - 100s 593ms/step - loss: 0.0205 - accuracy: 0.8770 - val_loss: 0.0606 - val_accuracy: 0.7000\n",
      "Epoch 20/20\n",
      "169/169 [==============================] - 105s 622ms/step - loss: 0.0206 - accuracy: 0.8831 - val_loss: 0.0634 - val_accuracy: 0.6800\n"
     ]
    },
    {
     "data": {
      "text/plain": [
       "<keras.callbacks.History at 0x13d8835b9d0>"
      ]
     },
     "execution_count": 40,
     "metadata": {},
     "output_type": "execute_result"
    }
   ],
   "source": [
    "model.fit(X_train, y_train, epochs=20, validation_data=(X_test, y_test), batch_size=32)"
   ]
  },
  {
   "cell_type": "code",
   "execution_count": 50,
   "id": "2589ba9f",
   "metadata": {},
   "outputs": [],
   "source": [
    "model.save('EfficientNetV2-60-Optimized.h5')"
   ]
  },
  {
   "cell_type": "code",
   "execution_count": 24,
   "id": "bcb22cd3",
   "metadata": {
    "scrolled": true
   },
   "outputs": [],
   "source": [
    "model = tf.keras.models.load_model('EfficientNetV2-New-60.h5')"
   ]
  },
  {
   "cell_type": "code",
   "execution_count": 51,
   "id": "b84eb119",
   "metadata": {},
   "outputs": [
    {
     "name": "stdout",
     "output_type": "stream",
     "text": [
      "0 56 54 177 168\n",
      "1 266 60 157 159\n",
      "2 54 236 381 211\n"
     ]
    }
   ],
   "source": [
    "# load image\n",
    "img = cv2.imread('apple-banana.jpg')\n",
    "\n",
    "width = 500\n",
    "height = 500\n",
    "dim = (width, height)\n",
    " \n",
    "# resize image\n",
    "img = cv2.resize(img, dim, interpolation = cv2.INTER_AREA)\n",
    "count = 0\n",
    "crop_img = [''] * 5\n",
    "\n",
    "# threshold on contrast\n",
    "lower = np.array([80,80,80])\n",
    "upper = np.array([220,220,220])\n",
    "thresh = cv2.inRange(img, lower, upper)\n",
    "\n",
    "# apply horizontal morphology\n",
    "kernel = cv2.getStructuringElement(cv2.MORPH_RECT , (25,15))\n",
    "morph = cv2.morphologyEx(thresh, cv2.MORPH_CLOSE, kernel)\n",
    "\n",
    "# get the two largest contours\n",
    "contours = cv2.findContours(morph, cv2.RETR_EXTERNAL, cv2.CHAIN_APPROX_SIMPLE)\n",
    "contours = contours[0] if len(contours) == 2 else contours[1]\n",
    "#cntrs = sorted(contours, key=lambda x: cv2.contourArea(x), reverse=True)\n",
    "cntrs = sorted(contours, key=cv2.contourArea, reverse=True)\n",
    "\n",
    "# get bounding boxes of two largest contours and draw on copy of input\n",
    "result = img.copy()\n",
    "for i, cntr in enumerate(cntrs[0:10]):\n",
    "    x,y,w,h = cv2.boundingRect(cntr)\n",
    "    if (w>=80 and h>=80):\n",
    "        print(i, x, y, w, h)\n",
    "        cv2.rectangle(result, (x,y), (x+w,y+h), (0, 0, 255), 2)\n",
    "        crop_img = img[y:y+h, x:x+w]\n",
    "        cv2.imwrite(\"test\"+str(i)+'.jpg', crop_img)\n",
    "        count+=1"
   ]
  },
  {
   "cell_type": "code",
   "execution_count": 52,
   "id": "7be19f85",
   "metadata": {},
   "outputs": [],
   "source": [
    "img = [''] * count\n",
    "for i in range(count):\n",
    "    img[i] = image.load_img('test'+str(i)+'.jpg',target_size=(224,224,3))\n",
    "    img[i] = image.img_to_array(img[i])\n",
    "    img[i] = img[i]/255"
   ]
  },
  {
   "cell_type": "code",
   "execution_count": 53,
   "id": "f4eceafe",
   "metadata": {},
   "outputs": [
    {
     "data": {
      "image/png": "[encoded data removed]",
      "text/plain": [
       "<Figure size 800x800 with 3 Axes>"
      ]
     },
     "metadata": {},
     "output_type": "display_data"
    }
   ],
   "source": [
    "fig=plt.figure(figsize=(8, 8))\n",
    "\n",
    "rows, cols = count, 1\n",
    "\n",
    "for j in range(0, cols*rows):\n",
    "    fig.add_subplot(rows, cols, j+1)\n",
    "    plt.imshow(img[j])\n",
    "plt.show()"
   ]
  },
  {
   "cell_type": "code",
   "execution_count": 54,
   "id": "13924e52",
   "metadata": {},
   "outputs": [
    {
     "name": "stdout",
     "output_type": "stream",
     "text": [
      "1/1 [==============================] - 2s 2s/step\n",
      "apple (0.99322)\n",
      "onion (0.0017252)\n",
      "orange (0.00081945)\n",
      "mango (0.00027108)\n",
      "mushroom (0.00010486)\n",
      "1/1 [==============================] - 0s 109ms/step\n",
      "apple (0.59649)\n",
      "egg (0.017453)\n",
      "scallop (0.0087912)\n",
      "mushroom (0.0045257)\n",
      "coconut (0.0012328)\n",
      "1/1 [==============================] - 0s 106ms/step\n",
      "banana (0.99826)\n",
      "greenbean (0.00066095)\n",
      "chili (1.7858e-05)\n",
      "pear (3.7032e-06)\n",
      "cashew (1.2894e-06)\n"
     ]
    }
   ],
   "source": [
    "classes = np.array(train.columns[1:])\n",
    "for i in range(count):\n",
    "    proba = model.predict(img[i].reshape(1,224,224,3))\n",
    "    top_3 = np.argsort(proba[0])[:-6:-1]\n",
    "    for i in range(5):\n",
    "        print(\"{}\".format(classes[top_3[i]])+\" ({:.5})\".format(proba[0][top_3[i]]))"
   ]
  },
  {
   "cell_type": "code",
   "execution_count": null,
   "id": "27acb130",
   "metadata": {},
   "outputs": [],
   "source": []
  }
 ],
 "metadata": {
  "kernelspec": {
   "display_name": "Python 3 (ipykernel)",
   "language": "python",
   "name": "python3"
  },
  "language_info": {
   "codemirror_mode": {
    "name": "ipython",
    "version": 3
   },
   "file_extension": ".py",
   "mimetype": "text/x-python",
   "name": "python",
   "nbconvert_exporter": "python",
   "pygments_lexer": "ipython3",
   "version": "3.10.9"
  }
 },
 "nbformat": 4,
 "nbformat_minor": 5
}
